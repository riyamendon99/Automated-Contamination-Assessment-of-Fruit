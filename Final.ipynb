{
  "nbformat": 4,
  "nbformat_minor": 0,
  "metadata": {
    "colab": {
      "provenance": [],
      "include_colab_link": true
    },
    "kernelspec": {
      "name": "python3",
      "display_name": "Python 3"
    },
    "accelerator": "GPU"
  },
  "cells": [
    {
      "cell_type": "markdown",
      "metadata": {
        "id": "view-in-github",
        "colab_type": "text"
      },
      "source": [
        "<a href=\"https://colab.research.google.com/github/riyamendon99/Automated-Contamination-Assessment-of-Fruit/blob/main/Final.ipynb\" target=\"_parent\"><img src=\"https://colab.research.google.com/assets/colab-badge.svg\" alt=\"Open In Colab\"/></a>"
      ]
    },
    {
      "cell_type": "code",
      "metadata": {
        "id": "AqBDgFTAw_QE",
        "outputId": "013c1ef9-f675-4af5-cb44-85dc125a8a3b",
        "colab": {
          "base_uri": "https://localhost:8080/",
          "height": 34
        }
      },
      "source": [
        "from google.colab import drive\n",
        "drive.mount('/content/gdrive')"
      ],
      "execution_count": null,
      "outputs": [
        {
          "output_type": "stream",
          "text": [
            "Drive already mounted at /content/gdrive; to attempt to forcibly remount, call drive.mount(\"/content/gdrive\", force_remount=True).\n"
          ],
          "name": "stdout"
        }
      ]
    },
    {
      "cell_type": "code",
      "metadata": {
        "id": "zCtCMXCyxROX",
        "outputId": "cecb96d2-28e8-4a32-92a6-f51387a36e4f",
        "colab": {
          "base_uri": "https://localhost:8080/",
          "height": 35
        }
      },
      "source": [
        "%cd /content/gdrive/My Drive/darkflow-master/darkflow-master\n",
        "#%cd content/gdrive/Shared with me/darkflow-master"
      ],
      "execution_count": null,
      "outputs": [
        {
          "output_type": "stream",
          "text": [
            "/content/gdrive/My Drive/darkflow-master/darkflow-master\n"
          ],
          "name": "stdout"
        }
      ]
    },
    {
      "cell_type": "code",
      "metadata": {
        "id": "Wf0bB5cfxjtV"
      },
      "source": [
        "!pip install -e ."
      ],
      "execution_count": null,
      "outputs": []
    },
    {
      "cell_type": "code",
      "metadata": {
        "id": "nqNax7OTxvmw",
        "outputId": "5fb11c7a-9cb8-4066-bc37-0a159f1b4b47",
        "colab": {
          "base_uri": "https://localhost:8080/",
          "height": 34
        }
      },
      "source": [
        "\n",
        "#!python flow --model cfg/yolo-1.cfg --train --annotation labeled_images --batch 10 --dataset images --gpu 0.8 --save 125 --epoch 1000\n",
        "!python flow --model cfg/yolo-1.cfg --load -1 --train --annotation labeled_images --batch 10 --dataset images --gpu 0.8 --save 125 --epoch 1000\n"
      ],
      "execution_count": null,
      "outputs": [
        {
          "output_type": "stream",
          "text": [
            "python3: can't open file 'flow': [Errno 2] No such file or directory\n"
          ],
          "name": "stdout"
        }
      ]
    },
    {
      "cell_type": "code",
      "metadata": {
        "id": "QKailkxv8D2v",
        "outputId": "4875ad09-f90e-4064-a8e9-a9024ef32066",
        "colab": {
          "base_uri": "https://localhost:8080/",
          "height": 780
        }
      },
      "source": [
        "import cv2\n",
        "from darkflow.net.build import TFNet\n",
        "import matplotlib.pyplot as plt\n",
        "options ={\n",
        "'model' : 'cfg/yolo-1.cfg',\n",
        "'load':14928\n",
        ",\n",
        "'threshold' :0.1,\n",
        "}\n",
        "tfnet=TFNet(options)\n",
        "image=\"42.jpg\"\n",
        "img=cv2.imread(image)\n",
        "result=tfnet.return_predict(img)\n",
        "img=cv2.cvtColor(img,cv2.COLOR_BGR2RGB)\n",
        "label_list={}\n",
        "for i in result:\n",
        "  tl=(i['topleft']['x'],i['topleft']['y'])\n",
        "  br=(i['bottomright']['x'],i['bottomright']['y'])\n",
        "  label=i['label']\n",
        "  label_list[label]=i['confidence']\n",
        "  img=cv2.rectangle(img,tl,br,(0,255,0),7)\n",
        "  plt.imshow(img)\n",
        "  print(result)"
      ],
      "execution_count": null,
      "outputs": [
        {
          "output_type": "stream",
          "text": [
            "Parsing cfg/yolo-1.cfg\n",
            "Loading None ...\n",
            "Finished in 0.00021338462829589844s\n",
            "\n",
            "Building net ...\n",
            "Source | Train? | Layer description                | Output size\n",
            "-------+--------+----------------------------------+---------------\n",
            "       |        | input                            | (?, 608, 608, 3)\n",
            " Init  |  Yep!  | conv 3x3p1_1  +bnorm  leaky      | (?, 608, 608, 32)\n",
            " Load  |  Yep!  | maxp 2x2p0_2                     | (?, 304, 304, 32)\n",
            " Init  |  Yep!  | conv 3x3p1_1  +bnorm  leaky      | (?, 304, 304, 64)\n",
            " Load  |  Yep!  | maxp 2x2p0_2                     | (?, 152, 152, 64)\n",
            " Init  |  Yep!  | conv 3x3p1_1  +bnorm  leaky      | (?, 152, 152, 128)\n",
            " Init  |  Yep!  | conv 1x1p0_1  +bnorm  leaky      | (?, 152, 152, 64)\n",
            " Init  |  Yep!  | conv 3x3p1_1  +bnorm  leaky      | (?, 152, 152, 128)\n",
            " Load  |  Yep!  | maxp 2x2p0_2                     | (?, 76, 76, 128)\n",
            " Init  |  Yep!  | conv 3x3p1_1  +bnorm  leaky      | (?, 76, 76, 256)\n",
            " Init  |  Yep!  | conv 1x1p0_1  +bnorm  leaky      | (?, 76, 76, 128)\n",
            " Init  |  Yep!  | conv 3x3p1_1  +bnorm  leaky      | (?, 76, 76, 256)\n",
            " Load  |  Yep!  | maxp 2x2p0_2                     | (?, 38, 38, 256)\n",
            " Init  |  Yep!  | conv 3x3p1_1  +bnorm  leaky      | (?, 38, 38, 512)\n",
            " Init  |  Yep!  | conv 1x1p0_1  +bnorm  leaky      | (?, 38, 38, 256)\n",
            " Init  |  Yep!  | conv 3x3p1_1  +bnorm  leaky      | (?, 38, 38, 512)\n",
            " Init  |  Yep!  | conv 1x1p0_1  +bnorm  leaky      | (?, 38, 38, 256)\n",
            " Init  |  Yep!  | conv 3x3p1_1  +bnorm  leaky      | (?, 38, 38, 512)\n",
            " Load  |  Yep!  | maxp 2x2p0_2                     | (?, 19, 19, 512)\n",
            " Init  |  Yep!  | conv 3x3p1_1  +bnorm  leaky      | (?, 19, 19, 1024)\n",
            " Init  |  Yep!  | conv 1x1p0_1  +bnorm  leaky      | (?, 19, 19, 512)\n",
            " Init  |  Yep!  | conv 3x3p1_1  +bnorm  leaky      | (?, 19, 19, 1024)\n",
            " Init  |  Yep!  | conv 1x1p0_1  +bnorm  leaky      | (?, 19, 19, 512)\n",
            " Init  |  Yep!  | conv 3x3p1_1  +bnorm  leaky      | (?, 19, 19, 1024)\n",
            " Init  |  Yep!  | conv 3x3p1_1  +bnorm  leaky      | (?, 19, 19, 1024)\n",
            " Init  |  Yep!  | conv 3x3p1_1  +bnorm  leaky      | (?, 19, 19, 1024)\n",
            " Load  |  Yep!  | concat [16]                      | (?, 38, 38, 512)\n",
            " Init  |  Yep!  | conv 1x1p0_1  +bnorm  leaky      | (?, 38, 38, 64)\n",
            " Load  |  Yep!  | local flatten 2x2                | (?, 19, 19, 256)\n",
            " Load  |  Yep!  | concat [27, 24]                  | (?, 19, 19, 1280)\n",
            " Init  |  Yep!  | conv 3x3p1_1  +bnorm  leaky      | (?, 19, 19, 1024)\n",
            " Init  |  Yep!  | conv 1x1p0_1    linear           | (?, 19, 19, 45)\n",
            "-------+--------+----------------------------------+---------------\n",
            "Running entirely on CPU\n",
            "Loading from ./ckpt/yolo-1-14928\n",
            "Finished in 18.0530207157135s\n",
            "\n"
          ],
          "name": "stdout"
        }
      ]
    },
    {
      "cell_type": "code",
      "metadata": {
        "id": "VxTTJR4baIcz",
        "outputId": "1d60f81c-d15f-43f0-a945-5df7b15adb62",
        "colab": {
          "base_uri": "https://localhost:8080/",
          "height": 110
        }
      },
      "source": [
        "!pip install webcolors"
      ],
      "execution_count": null,
      "outputs": [
        {
          "output_type": "stream",
          "text": [
            "Collecting webcolors\n",
            "  Downloading https://files.pythonhosted.org/packages/1d/44/c4902683be73beba20afd299705e11f0a753a01cc7f9d6a070841848605b/webcolors-1.8.1-py2.py3-none-any.whl\n",
            "Installing collected packages: webcolors\n",
            "Successfully installed webcolors-1.8.1\n"
          ],
          "name": "stdout"
        }
      ]
    },
    {
      "cell_type": "code",
      "metadata": {
        "id": "M9lcsgOtapwp",
        "outputId": "fe9f93cf-166a-4d1d-ab45-786111ce26ea",
        "colab": {
          "base_uri": "https://localhost:8080/",
          "height": 35
        }
      },
      "source": [
        "import cv2\n",
        "import glob\n",
        "import numpy as np\n",
        "import webcolors\n",
        "import matplotlib.pyplot as plt\n",
        "from sklearn.cluster import KMeans\n",
        "plt.rcParams[\"axes.grid\"] = False\n",
        "listing = [image]\n",
        "listing"
      ],
      "execution_count": null,
      "outputs": [
        {
          "output_type": "execute_result",
          "data": {
            "text/plain": [
              "['1.jpg']"
            ]
          },
          "metadata": {
            "tags": []
          },
          "execution_count": 12
        }
      ]
    },
    {
      "cell_type": "code",
      "metadata": {
        "id": "oo1DRzTPOFeO"
      },
      "source": [],
      "execution_count": null,
      "outputs": []
    },
    {
      "cell_type": "code",
      "metadata": {
        "id": "PEcM8CXFaIc6"
      },
      "source": [
        " def find_histogram(clt):\n",
        "    \"\"\"\n",
        "    create a histogram with k clusters\n",
        "    :param: clt\n",
        "    :return:hist\n",
        "    \"\"\"\n",
        "    numLabels = np.arange(0, len(np.unique(clt.labels_)) + 1)\n",
        "    numLabels=sorted(numLabels)\n",
        "    (hist, _) = np.histogram(clt.labels_, bins=numLabels)\n",
        "\n",
        "    hist = hist.astype(\"float\")\n",
        "    hist /= hist.sum()\n",
        "    hist=sorted(hist,reverse=True)\n",
        "    print(hist)\n",
        "\n",
        "    return hist\n",
        "\n",
        "def plot_colors2(hist, centroids):\n",
        "    bar = np.zeros((50, 300, 3), dtype=\"uint8\")\n",
        "    startX = 0\n",
        "\n",
        "    for (percent, color) in zip(hist, centroids):\n",
        "        # plot the relative percentage of each cluster\n",
        "        endX = startX + (percent * 300)\n",
        "        cv2.rectangle(bar, (int(startX), 0), (int(endX), 50),\n",
        "                      color.astype(\"uint8\").tolist(), -1)\n",
        "        startX = endX\n",
        "\n",
        "    # return the bar chart\n",
        "    return bar\n",
        "\n",
        "def closest_colour(requested_colour):\n",
        "    min_colours = {}\n",
        "    for key, name in webcolors.css3_hex_to_names.items():\n",
        "        r_c, g_c, b_c = webcolors.hex_to_rgb(key)\n",
        "        rd = (r_c - requested_colour[0]) ** 2\n",
        "        gd = (g_c - requested_colour[1]) ** 2\n",
        "        bd = (b_c - requested_colour[2]) ** 2\n",
        "        min_colours[(rd + gd + bd)] = name\n",
        "    return min_colours[min(min_colours.keys())]\n",
        "\n",
        "def get_colour_name(requested_colour):\n",
        "    try:\n",
        "        closest_name = actual_name = webcolors.rgb_to_name(requested_colour)\n",
        "    except ValueError:\n",
        "        closest_name = closest_colour(requested_colour)\n",
        "        actual_name = None\n",
        "    return actual_name, closest_name"
      ],
      "execution_count": null,
      "outputs": []
    },
    {
      "cell_type": "markdown",
      "metadata": {
        "id": "jR6oi06fQeJl"
      },
      "source": []
    },
    {
      "cell_type": "markdown",
      "metadata": {
        "id": "LxqgJjYrQduv"
      },
      "source": []
    },
    {
      "cell_type": "code",
      "metadata": {
        "id": "iEYbZObpQdZJ"
      },
      "source": [],
      "execution_count": null,
      "outputs": []
    },
    {
      "cell_type": "code",
      "metadata": {
        "id": "pQHWZMItQc9C"
      },
      "source": [],
      "execution_count": null,
      "outputs": []
    },
    {
      "cell_type": "code",
      "metadata": {
        "id": "QEing1DZaIdJ",
        "outputId": "685989a4-d387-48fe-e341-d8c7e1559d3d",
        "colab": {
          "base_uri": "https://localhost:8080/",
          "height": 414
        }
      },
      "source": [
        "for images in listing :\n",
        "    img = cv2.imread(images)\n",
        "    img = cv2.cvtColor(img, cv2.COLOR_BGR2RGB)\n",
        "    print(images)\n",
        "    plt.imshow(img)\n",
        "    plt.show()\n",
        "    img = img.reshape((img.shape[1] * img.shape[0],3)) #represent as row*column,channel number\n",
        "    clt = KMeans(n_clusters=5) #cluster number\n",
        "    clt.fit(img)\n",
        "    hist = find_histogram(clt)\n",
        "    bar = plot_colors2(hist, clt.cluster_centers_)\n",
        "    plt.imshow(bar)\n",
        "    plt.show()\n",
        "    lis={}\n",
        "    color_list=[]\n",
        "    for (a,b) in zip(hist,clt.cluster_centers_):\n",
        "        x=[int(i) for i in b]\n",
        "        z=(x[0],x[1],x[2])\n",
        "        z=get_colour_name((x[0],x[1],x[2]))\n",
        "        lis[z[1]]=a\n",
        "        color_list=color_list+[z[1]]\n",
        "    print(lis)\n",
        "\n"
      ],
      "execution_count": null,
      "outputs": [
        {
          "output_type": "stream",
          "text": [
            "1.jpg\n"
          ],
          "name": "stdout"
        },
        {
          "output_type": "display_data",
          "data": {
            "image/png": "[encoded data removed]",
            "text/plain": [
              "<Figure size 432x288 with 1 Axes>"
            ]
          },
          "metadata": {
            "tags": []
          }
        },
        {
          "output_type": "stream",
          "text": [
            "[0.6273481481481481, 0.1262320987654321, 0.1092, 0.1014320987654321, 0.035787654320987655]\n"
          ],
          "name": "stdout"
        },
        {
          "output_type": "display_data",
          "data": {
            "image/png": "[encoded data removed]",
            "text/plain": [
              "<Figure size 432x288 with 1 Axes>"
            ]
          },
          "metadata": {
            "tags": []
          }
        },
        {
          "output_type": "stream",
          "text": [
            "{'yellowgreen': 0.035787654320987655, 'white': 0.1262320987654321, 'khaki': 0.1092, 'darkolivegreen': 0.1014320987654321}\n"
          ],
          "name": "stdout"
        }
      ]
    },
    {
      "cell_type": "code",
      "metadata": {
        "id": "Vc5dGyZ5GYze",
        "outputId": "e8b6f706-e8f6-4914-e7b0-94c796cc75ce",
        "colab": {
          "base_uri": "https://localhost:8080/",
          "height": 72
        }
      },
      "source": [
        "labels=list(label_list.keys())\n",
        "print(labels)\n",
        "if \"banana\" in labels:\n",
        "  labels.remove('banana')\n",
        "  stalks=labels\n",
        "  if stalks:\n",
        "    stalks.sort()\n",
        "    labels=[stalks[0]]\n",
        "    print(labels)\n",
        "  if \"yellow_stalk\" in labels or \"black_stalk\" in labels:\n",
        "    if \"khaki\" in color_list or \"darkkhaki\" in color_list or \"goldenrod\" in color_list or \"sandybrown\" in color_list:\n",
        "      print(\"natural and riped banana\")\n",
        "    elif \"black\" in color_list or \"darkslategrey\" in color_list:\n",
        "      print(\"rotten banana\")\n",
        "  elif \"green_stalk\" in labels:\n",
        "    if \"olivegreen\" in color_list or 'yellowgreen' in color_list:\n",
        "      print(\"natural and unripe banana\")\n",
        "    elif \"goldenrod\" in color_list or \"khaki\" in color_list:\n",
        "      print(\"artificially ripenend banana\")\n",
        "else:\n",
        "  print(\"Couldn't find Banana\")\n",
        "#label_list\n",
        ""
      ],
      "execution_count": null,
      "outputs": [
        {
          "output_type": "stream",
          "text": [
            "['banana', 'green_stalk']\n",
            "['green_stalk']\n",
            "natural and unripe banana\n"
          ],
          "name": "stdout"
        }
      ]
    }
  ]
}